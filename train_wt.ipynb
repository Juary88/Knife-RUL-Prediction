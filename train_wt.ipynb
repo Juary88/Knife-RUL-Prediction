{
 "cells": [
  {
   "cell_type": "code",
   "execution_count": 1,
   "metadata": {},
   "outputs": [
    {
     "name": "stderr",
     "output_type": "stream",
     "text": [
      "Using TensorFlow backend.\n"
     ]
    }
   ],
   "source": [
    "import pandas as pd\n",
    "import numpy as np\n",
    "import matplotlib.pyplot as plt\n",
    "from kesmarag.swpt import SWPT\n",
    "from scipy import stats\n",
    "from scipy.signal import impulse2\n",
    "from util import calc_crest_factor\n",
    "import seaborn as sns\n",
    "from keras.preprocessing import sequence\n",
    "from keras.models import Sequential\n",
    "from keras.layers import Dense, Embedding, Dropout\n",
    "from keras.layers import LSTM\n",
    "from sklearn.svm import SVR\n",
    "from sklearn.model_selection import GridSearchCV\n",
    "from sklearn.kernel_ridge import KernelRidge\n",
    "from scipy.signal import savgol_filter\n",
    "from sklearn.preprocessing import MinMaxScaler\n",
    "from scipy.optimize import curve_fit\n",
    "window_size, poly_order = 51, 3"
   ]
  },
  {
   "cell_type": "code",
   "execution_count": null,
   "metadata": {},
   "outputs": [],
   "source": [
    "def func(x, a, b):\n",
    "    return a*np.exp(b/x)"
   ]
  },
  {
   "cell_type": "code",
   "execution_count": null,
   "metadata": {
    "scrolled": true
   },
   "outputs": [],
   "source": [
    "id = '01'\n",
    "ax = 3\n",
    "data_1 = pd.read_csv(\"train/extract/{}_{}.csv\".format(id, ax)).values\n",
    "for j in range(len(data_1)):\n",
    "    #非线性最小二乘法拟合\n",
    "    popt, _ = curve_fit(lambda t,a,b: a*np.exp(b*t),  [i+1 for i in range(len(data_1[:,j]))],  data_1[:,j],  p0=(4, 0.1))\n",
    "#     print(y)\n",
    "    #获取popt里面是拟合系数\n",
    "    a = popt[0] \n",
    "    b = popt[1]\n",
    "#     y = func(data_1[:,j],a,b) #拟合y值\n",
    "    y = [a*np.exp(b*t) for t in [i+1 for i in range(len(data_1[:,j]))]]\n",
    "#     y = savgol_filter(data_1[:,j], window_size, poly_order)\n",
    "    plt.plot([i for i in range(len(data_1[:,j]))], y)\n",
    "    plt.plot([i for i in range(len(data_1[:,j]))], data_1[:,j])\n",
    "    plt.title(\"{}\".format(j))\n",
    "    plt.show()"
   ]
  },
  {
   "cell_type": "code",
   "execution_count": null,
   "metadata": {
    "scrolled": true
   },
   "outputs": [],
   "source": [
    "id = '02'\n",
    "ax = 3\n",
    "data_2 = pd.read_csv(\"train/extract/{}_{}.csv\".format(id, ax)).values\n",
    "for j in range(len(data_2)):\n",
    "    y = savgol_filter(data_2[:,j], window_size, poly_order)\n",
    "    plt.plot([i for i in range(len(data_2[:,j]))], y)\n",
    "    plt.plot([i for i in range(len(data_2[:,j]))], data_2[:,j])\n",
    "    plt.title(\"{}\".format(j))\n",
    "    plt.show()"
   ]
  },
  {
   "cell_type": "code",
   "execution_count": null,
   "metadata": {
    "scrolled": true
   },
   "outputs": [],
   "source": [
    "id = '03'\n",
    "ax = 3\n",
    "data_3 = pd.read_csv(\"train/extract/{}_{}.csv\".format(id, ax)).values\n",
    "for j in range(len(data_3)):\n",
    "    y = savgol_filter(data_3[:,j], window_size, poly_order)\n",
    "    plt.plot([i for i in range(len(data_3[:,j]))], y)\n",
    "    plt.plot([i for i in range(len(data_3[:,j]))], data_3[:,j])\n",
    "    plt.title(\"{}\".format(j))\n",
    "    plt.show()"
   ]
  },
  {
   "cell_type": "code",
   "execution_count": null,
   "metadata": {
    "scrolled": true
   },
   "outputs": [],
   "source": [
    "id = '04'\n",
    "ax = 1\n",
    "t_data_3 = pd.read_csv(\"test/extract/{}_{}.csv\".format(id, ax)).values\n",
    "for j in range(len(t_data_3)):\n",
    "    y = savgol_filter(t_data_3[:,j], window_size, poly_order)\n",
    "    plt.plot([i for i in range(len(t_data_3[:,j]))], y)\n",
    "    plt.plot([i for i in range(len(t_data_3[:,j]))], t_data_3[:,j])\n",
    "    plt.title(\"{}\".format(j))\n",
    "    plt.show()"
   ]
  },
  {
   "cell_type": "code",
   "execution_count": null,
   "metadata": {},
   "outputs": [],
   "source": [
    "# id = '01'\n",
    "# ax = 1\n",
    "# data_1 = pd.read_csv(\"train/extract/{}_{}.csv\".format(id, ax)).values\n",
    "# train_data = savgol_filter(data_1[:,42], window_size, poly_order)\n",
    "# train_data = train_data.reshape(-1, 1)"
   ]
  },
  {
   "cell_type": "code",
   "execution_count": null,
   "metadata": {},
   "outputs": [],
   "source": [
    "# sc = MinMaxScaler(feature_range = (0, 1))\n",
    "# training_set_scaled = sc.fit_transform(train_data)"
   ]
  },
  {
   "cell_type": "code",
   "execution_count": null,
   "metadata": {},
   "outputs": [],
   "source": [
    "# training_set_scaled = np.array([(1-s[0]) for s in training_set_scaled]).reshape(-1, 1)"
   ]
  },
  {
   "cell_type": "code",
   "execution_count": null,
   "metadata": {},
   "outputs": [],
   "source": [
    "# plt.plot([i for i in range(len(training_set_scaled))], training_set_scaled)\n",
    "# plt.show()"
   ]
  },
  {
   "cell_type": "code",
   "execution_count": null,
   "metadata": {},
   "outputs": [],
   "source": [
    "# id = '03'\n",
    "# ax = 1\n",
    "# data_3 = pd.read_csv(\"train/extract/{}_{}.csv\".format(id, ax)).values\n",
    "# test_data = savgol_filter(data_3[:,42], window_size, poly_order)\n",
    "# test_data = test_data.reshape(-1, 1)\n",
    "# testing_set_scaled = sc.fit_transform(test_data)\n",
    "# testing_set_scaled = np.array([(1-s[0]) for s in testing_set_scaled]).reshape(-1, 1)"
   ]
  },
  {
   "cell_type": "code",
   "execution_count": null,
   "metadata": {},
   "outputs": [],
   "source": [
    "# plt.plot([i for i in range(len(testing_set_scaled))], testing_set_scaled)\n",
    "# plt.show()"
   ]
  },
  {
   "cell_type": "code",
   "execution_count": 2,
   "metadata": {},
   "outputs": [],
   "source": [
    "train_data = []\n",
    "val_data = []\n",
    "sc = MinMaxScaler(feature_range = (0, 1))"
   ]
  },
  {
   "cell_type": "code",
   "execution_count": 3,
   "metadata": {},
   "outputs": [],
   "source": [
    "id = '01'\n",
    "ax = [1, 2, 3]\n",
    "for a in ax:\n",
    "    data = pd.read_csv(\"train/extract/{}_{}.csv\".format(id, a)).values\n",
    "    tmp = [42, 43, 44, 114, 115, 116]\n",
    "    for t in tmp:\n",
    "#         filter_data = sc.fit_transform(savgol_filter(data[:,t], window_size, poly_order).reshape(-1, 1))\n",
    "        filter_data = savgol_filter(data[:,t], window_size, poly_order).reshape(-1, 1)\n",
    "\n",
    "#         popt, _ = curve_fit(lambda t,a,b: a*np.exp(b*t),  [i+1 for i in range(len(data[:,t]))],  data[:,t],  p0=(4, 0.1))\n",
    "#         a = popt[0] \n",
    "#         b = popt[1]\n",
    "#         y = [a*np.exp(b*t) for t in [i+1 for i in range(len(data[:,t]))]]\n",
    "#         filter_data = sc.fit_transform(np.array(y).reshape(-1, 1))\n",
    "        train_data.append(filter_data[6:-18])\n",
    "\n",
    "id = '03'\n",
    "ax = [1, 2, 3]\n",
    "for a in ax:\n",
    "    data = pd.read_csv(\"train/extract/{}_{}.csv\".format(id, a)).values\n",
    "    tmp = [42, 43, 44, 114, 115, 116]\n",
    "    for t in tmp:\n",
    "#         filter_data = sc.fit_transform(savgol_filter(data[:,t], window_size, poly_order).reshape(-1, 1))\n",
    "#         popt, _ = curve_fit(lambda t,a,b: a*np.exp(b*t),  [i+1 for i in range(len(data[:,t]))],  data[:,t],  p0=(4, 0.1))\n",
    "#         a = popt[0] \n",
    "#         b = popt[1]\n",
    "#         y = [a*np.exp(b*t) for t in [i+1 for i in range(len(data[:,t]))]]\n",
    "#         filter_data = sc.fit_transform(np.array(y).reshape(-1, 1))\n",
    "        filter_data = savgol_filter(data[:,t], window_size, poly_order).reshape(-1, 1)\n",
    "        val_data.append(filter_data[6:-18])"
   ]
  },
  {
   "cell_type": "code",
   "execution_count": 4,
   "metadata": {},
   "outputs": [],
   "source": [
    "train_data = np.array(train_data)\n",
    "val_data = np.array(val_data)\n",
    "result = []"
   ]
  },
  {
   "cell_type": "code",
   "execution_count": null,
   "metadata": {},
   "outputs": [],
   "source": [
    "print(val_data.shape)"
   ]
  },
  {
   "cell_type": "code",
   "execution_count": 5,
   "metadata": {},
   "outputs": [],
   "source": [
    "tmp = train_data\n",
    "for j in range(tmp.shape[0]):\n",
    "    tmp[j] = sc.fit_transform(train_data[j])\n",
    "train_label = [tmp[:,i].min() for i in range(tmp.shape[1])]\n",
    "\n",
    "tmp = val_data\n",
    "for j in range(tmp.shape[0]):\n",
    "    tmp[j] = sc.fit_transform(val_data[j])\n",
    "val_label = [tmp[:,i].min() for i in range(tmp.shape[1])]"
   ]
  },
  {
   "cell_type": "code",
   "execution_count": null,
   "metadata": {
    "scrolled": true
   },
   "outputs": [],
   "source": [
    "# for j in range(train_data.shape[0]):\n",
    "#     X_train = []\n",
    "#     y_train = []\n",
    "#     for i in range(20, train_data.shape[1]):\n",
    "#         X_train.append(train_data[j][i-20:i])\n",
    "#         y_train.append(train_data[j][i])\n",
    "#     X_train, y_train = np.array(X_train), np.array(y_train)\n",
    "\n",
    "#     X_test = []\n",
    "#     y_test = []\n",
    "#     for i in range(20, val_data.shape[1]):\n",
    "#         X_test.append(val_data[j][i-20:i])\n",
    "#         y_test.append(val_data[j][i])\n",
    "#     X_test, y_test = np.array(X_test), np.array(y_test)\n",
    "    \n",
    "#     plt.plot([i for i in range(len(y_train))], y_train)\n",
    "#     plt.plot([i for i in range(len(y_test))], y_test)\n",
    "#     plt.title(\"{}\".format(j))\n",
    "#     plt.show()\n",
    "    \n",
    "#     # Initialising the RNN\n",
    "#     regressor = Sequential()\n",
    "\n",
    "#     # Adding the first LSTM layer and some Dropout regularisation\n",
    "#     regressor.add(LSTM(units = 50, return_sequences = True, input_shape = (X_train.shape[1], 1)))\n",
    "#     regressor.add(Dropout(0.2))\n",
    "#     # Adding a second LSTM layer and some Dropout regularisation\n",
    "#     regressor.add(LSTM(units = 50, return_sequences = True))\n",
    "#     regressor.add(Dropout(0.2))\n",
    "#     # Adding a third LSTM layer and some Dropout regularisation\n",
    "#     regressor.add(LSTM(units = 50, return_sequences = True))\n",
    "#     regressor.add(Dropout(0.2))\n",
    "#     # Adding a fourth LSTM layer and some Dropout regularisation\n",
    "#     regressor.add(LSTM(units = 50))\n",
    "#     regressor.add(Dropout(0.2))\n",
    "\n",
    "#     # Adding the output layer\n",
    "#     regressor.add(Dense(units = 1, activation='sigmoid'))\n",
    "\n",
    "#     # Compiling the RNN\n",
    "#     regressor.compile(optimizer = 'adam', loss = 'mean_squared_error')\n",
    "\n",
    "#     regressor.fit(X_train, y_train,\n",
    "#               batch_size=32,\n",
    "#               epochs=50,\n",
    "#               validation_data=(X_test, y_test))\n",
    "#     predicted = regressor.predict(X_test)\n",
    "#     result.append(predicted)\n",
    "#     plt.plot(y_test, color = 'red', label = 'Real')\n",
    "#     plt.plot(predicted, color = 'blue', label = 'Predicted')\n",
    "#     plt.xlabel('Time')\n",
    "#     plt.ylabel('Value')\n",
    "#     plt.legend()\n",
    "#     plt.show()"
   ]
  },
  {
   "cell_type": "code",
   "execution_count": null,
   "metadata": {},
   "outputs": [],
   "source": [
    "# pred = [result[:,i].min() for i in range(len(result[0]))]\n",
    "# real = [val_data[:,i].min() for i in range(len(val_data[0]))]"
   ]
  },
  {
   "cell_type": "code",
   "execution_count": null,
   "metadata": {
    "scrolled": true
   },
   "outputs": [],
   "source": [
    "# train_label = sc.fit_transform(np.array([train_data[:,i].min() for i in range(len(train_data[0]))]).reshape(-1, 1))\n",
    "# val_label = sc.fit_transform(np.array([val_data[:, i].min() for i in range(len(val_data[0]))]).reshape(-1, 1))"
   ]
  },
  {
   "cell_type": "code",
   "execution_count": 6,
   "metadata": {},
   "outputs": [],
   "source": [
    "train_data = train_data.reshape(train_data.shape[1], train_data.shape[0])\n",
    "val_data = val_data.reshape(val_data.shape[1], val_data.shape[0])\n",
    "# train_label = train_label.tolist()\n",
    "# val_label = val_label.tolist()"
   ]
  },
  {
   "cell_type": "code",
   "execution_count": null,
   "metadata": {},
   "outputs": [],
   "source": [
    "# plt.plot([i for i in range(len(pred))], pred)\n",
    "# plt.plot([i for i in range(len(real))], real)\n",
    "# plt.show()"
   ]
  },
  {
   "cell_type": "code",
   "execution_count": null,
   "metadata": {},
   "outputs": [],
   "source": [
    "# Creating a data structure with 20 timesteps and 1 output\n",
    "# X_train = []\n",
    "# y_train = []\n",
    "# for i in range(20, len(training_set_scaled)):\n",
    "#     X_train.append(training_set_scaled[i-20:i, 0])\n",
    "#     y_train.append(training_set_scaled[i, 0])\n",
    "# X_train, y_train = np.array(X_train), np.array(y_train)\n",
    "\n",
    "# X_test = []\n",
    "# y_test = []\n",
    "# for i in range(20, len(testing_set_scaled)):\n",
    "#     X_test.append(testing_set_scaled[i-20:i, 0])\n",
    "#     y_test.append(testing_set_scaled[i, 0])\n",
    "# X_test, y_test = np.array(X_test), np.array(y_test)"
   ]
  },
  {
   "cell_type": "code",
   "execution_count": null,
   "metadata": {},
   "outputs": [],
   "source": [
    "# X_train, y_train = train_data, train_label\n",
    "# X_test, y_test = val_data, val_label"
   ]
  },
  {
   "cell_type": "code",
   "execution_count": null,
   "metadata": {},
   "outputs": [],
   "source": [
    "# Reshaping\n",
    "# X_train = np.reshape(X_train, (X_train.shape[1], X_train.shape[0], 1))\n",
    "# X_test = np.reshape(X_test, (X_test.shape[1], X_test.shape[0], 1))\n",
    "# print(X_train.shape)"
   ]
  },
  {
   "cell_type": "code",
   "execution_count": 7,
   "metadata": {},
   "outputs": [
    {
     "name": "stdout",
     "output_type": "stream",
     "text": [
      "(263, 18)\n"
     ]
    }
   ],
   "source": [
    "print(train_data.shape)"
   ]
  },
  {
   "cell_type": "code",
   "execution_count": 8,
   "metadata": {},
   "outputs": [
    {
     "data": {
      "text/plain": [
       "GridSearchCV(cv=5, error_score='raise',\n",
       "       estimator=SVR(C=1.0, cache_size=200, coef0=0.0, degree=3, epsilon=0.1, gamma=0.1,\n",
       "  kernel='rbf', max_iter=-1, shrinking=True, tol=0.001, verbose=False),\n",
       "       fit_params=None, iid=True, n_jobs=1,\n",
       "       param_grid={'C': [1.0, 10.0, 100.0, 1000.0], 'gamma': array([  1.00000e-02,   1.00000e-01,   1.00000e+00,   1.00000e+01,\n",
       "         1.00000e+02])},\n",
       "       pre_dispatch='2*n_jobs', refit=True, return_train_score='warn',\n",
       "       scoring=None, verbose=0)"
      ]
     },
     "execution_count": 8,
     "metadata": {},
     "output_type": "execute_result"
    }
   ],
   "source": [
    "svr = GridSearchCV(SVR(kernel='rbf', gamma=0.1), cv=5,\n",
    "                   param_grid={\"C\": [1e0, 1e1, 1e2, 1e3],\n",
    "                               \"gamma\": np.logspace(-2, 2, 5)})\n",
    "svr.fit(train_data, train_label)"
   ]
  },
  {
   "cell_type": "code",
   "execution_count": 10,
   "metadata": {},
   "outputs": [
    {
     "name": "stdout",
     "output_type": "stream",
     "text": [
      "[ 0.19026952  0.19154979  0.19142148  0.18718165  0.18365465  0.18147278\n",
      "  0.18092748  0.177558    0.1654555   0.16079205  0.13486959  0.18589779\n",
      "  0.19016313  0.18957803  0.18302475  0.17905831  0.177954    0.17800674\n",
      "  0.17123112  0.1661495   0.17358227  0.1466461   0.18637899  0.1906873\n",
      "  0.18945537  0.18318144  0.17972429  0.17823076  0.17835705  0.1707016\n",
      "  0.16680608  0.17158442  0.14901922  0.18989163  0.19252578  0.19088785\n",
      "  0.18712481  0.18572656  0.18484793  0.18589784  0.17679862  0.16600973\n",
      "  0.15703815  0.14787012  0.18633166  0.19195981  0.18935291  0.18313645\n",
      "  0.18133782  0.18170328  0.18265629  0.17033808  0.16942366  0.16681644\n",
      "  0.14823474  0.18716636  0.19222869  0.18926665  0.18381995  0.18198253\n",
      "  0.18236132  0.18317392  0.17012725  0.17033819  0.16433482  0.14887969\n",
      "  0.19302548  0.18913309  0.18895799  0.18550171  0.1785396   0.16955512\n",
      "  0.16762665  0.16464909  0.16655158  0.14342042  0.14393241  0.1901949\n",
      "  0.19004859  0.18801425  0.1840826   0.17645139  0.17180135  0.17041883\n",
      "  0.16038901  0.17818292  0.16695019  0.15441258  0.19080587  0.1891863\n",
      "  0.18825221  0.18369632  0.17609643  0.17037854  0.16927574  0.16059723\n",
      "  0.17844647  0.16129951  0.15893832  0.19249136  0.18755153  0.18925018\n",
      "  0.18538104  0.178249    0.16927251  0.16881627  0.16373701  0.16499596\n",
      "  0.13625095  0.15842355  0.19037112  0.18813112  0.18818669  0.18330894\n",
      "  0.17648461  0.17198626  0.17053207  0.16074033  0.17966046  0.15531598\n",
      "  0.16835446  0.19071749  0.18724594  0.18824479  0.18312815  0.17636894\n",
      "  0.17076887  0.16944721  0.16260124  0.1794018   0.15029828  0.14805397\n",
      "  0.18286303  0.19328241  0.18473648  0.17562252  0.17071403  0.1743835\n",
      "  0.17075574  0.16019371  0.17964363  0.15186116  0.13177735  0.16655258\n",
      "  0.17508462  0.16596091  0.1593983   0.1568248   0.1611747   0.15643172\n",
      "  0.15487252  0.18734071  0.15304347  0.12689352  0.16698162  0.17457917\n",
      "  0.16618022  0.15986372  0.15733299  0.16147262  0.15719474  0.15690847\n",
      "  0.18814707  0.14944618  0.14179787  0.1812157   0.19190418  0.17945219\n",
      "  0.16906848  0.16680272  0.1718783   0.16517764  0.15964057  0.18671064\n",
      "  0.14534641  0.14278442  0.16297838  0.1705417   0.15988211  0.15251876\n",
      "  0.15245921  0.15687231  0.15034151  0.15365668  0.18858905  0.14204292\n",
      "  0.15546726  0.16423128  0.16985354  0.15972284  0.15287309  0.15362678\n",
      "  0.15677083  0.14996715  0.1544204   0.18876232  0.13965538]\n"
     ]
    }
   ],
   "source": [
    "pre = svr.predict(val_data)\n",
    "print(pre)"
   ]
  },
  {
   "cell_type": "code",
   "execution_count": null,
   "metadata": {
    "scrolled": true
   },
   "outputs": [],
   "source": [
    "# Initialising the RNN\n",
    "regressor = Sequential()\n",
    "\n",
    "# Adding the first LSTM layer and some Dropout regularisation\n",
    "regressor.add(LSTM(units = 50, return_sequences = True, input_shape = (X_train.shape[1], 1)))\n",
    "regressor.add(Dropout(0.2))\n",
    "# Adding a second LSTM layer and some Dropout regularisation\n",
    "regressor.add(LSTM(units = 50, return_sequences = True))\n",
    "regressor.add(Dropout(0.2))\n",
    "# Adding a third LSTM layer and some Dropout regularisation\n",
    "regressor.add(LSTM(units = 50, return_sequences = True))\n",
    "regressor.add(Dropout(0.2))\n",
    "# Adding a fourth LSTM layer and some Dropout regularisation\n",
    "regressor.add(LSTM(units = 50))\n",
    "regressor.add(Dropout(0.2))\n",
    "\n",
    "# Adding the output layer\n",
    "regressor.add(Dense(units = 1, activation='sigmoid'))\n",
    "\n",
    "# Compiling the RNN\n",
    "regressor.compile(optimizer = 'adam', loss = 'mean_squared_error')\n",
    "\n",
    "regressor.fit(X_train, y_train,\n",
    "          batch_size=32,\n",
    "          epochs=50,\n",
    "          validation_data=(X_test, y_test))"
   ]
  },
  {
   "cell_type": "code",
   "execution_count": null,
   "metadata": {},
   "outputs": [],
   "source": [
    "predicted = regressor.predict(X_test)\n",
    "# predicted = sc.inverse_transform(predicted)"
   ]
  },
  {
   "cell_type": "code",
   "execution_count": 11,
   "metadata": {},
   "outputs": [
    {
     "data": {
      "image/png": "[encoded data removed]",
      "text/plain": [
       "<Figure size 432x288 with 1 Axes>"
      ]
     },
     "metadata": {},
     "output_type": "display_data"
    }
   ],
   "source": [
    "# Visualising the results\n",
    "plt.plot(val_label, color = 'red', label = 'Real')\n",
    "plt.plot(pre, color = 'blue', label = 'Predicted')\n",
    "plt.xlabel('Time')\n",
    "plt.ylabel('Value')\n",
    "plt.legend()\n",
    "plt.show()"
   ]
  },
  {
   "cell_type": "code",
   "execution_count": null,
   "metadata": {},
   "outputs": [],
   "source": []
  }
 ],
 "metadata": {
  "kernelspec": {
   "display_name": "Python 3",
   "language": "python",
   "name": "python3"
  },
  "language_info": {
   "codemirror_mode": {
    "name": "ipython",
    "version": 3
   },
   "file_extension": ".py",
   "mimetype": "text/x-python",
   "name": "python",
   "nbconvert_exporter": "python",
   "pygments_lexer": "ipython3",
   "version": "3.6.5"
  }
 },
 "nbformat": 4,
 "nbformat_minor": 2
}
