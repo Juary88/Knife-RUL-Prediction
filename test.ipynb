{
 "cells": [
  {
   "cell_type": "code",
   "execution_count": 4,
   "metadata": {},
   "outputs": [
    {
     "name": "stdout",
     "output_type": "stream",
     "text": [
      "20\n",
      "20\n"
     ]
    }
   ],
   "source": [
    "import pandas as pd\n",
    "import matplotlib.pyplot as plt\n",
    "from mpl_toolkits.mplot3d import Axes3D\n",
    "import seaborn as sns\n",
    "import numpy as np\n",
    "import pylab as pl\n",
    "from librosa.feature import mfcc\n",
    "# X = [1, 1, 2, 2]\n",
    "# Y = [3, 4, 4, 3]\n",
    "# Z = [1, 2, 1, 1]\n",
    "\n",
    "for i in range(2, 4):\n",
    "# data = pd.read_csv(\"train/01/PLC/plc.csv\").values\n",
    "    data = pd.read_csv(\"train/01/Sensor/{}.csv\".format(i)).values\n",
    "    # print(len(data[:,0]))\n",
    "    # csv_nos = set(data[:,-1])\n",
    "    # print(csv_nos)\n",
    "    spinde = data[:,0]\n",
    "    # spinde = np.fft.fft(spinde)\n",
    "    spinde = mfcc(y=spinde, sr=25600, S=None, n_mfcc=20, dct_type=2, norm='ortho')\n",
    "#     print(spinde)\n",
    "    print(len(spinde))\n",
    "\n",
    "    plt.imshow(np.flipud(spinde), cmap=plt.cm.jet, aspect=100, extent=[0,spinde.shape[1],0,spinde.shape[0]])\n",
    "plt.show()"
   ]
  }
 ],
 "metadata": {
  "kernelspec": {
   "display_name": "Python 3",
   "language": "python",
   "name": "python3"
  },
  "language_info": {
   "codemirror_mode": {
    "name": "ipython",
    "version": 3
   },
   "file_extension": ".py",
   "mimetype": "text/x-python",
   "name": "python",
   "nbconvert_exporter": "python",
   "pygments_lexer": "ipython3",
   "version": "3.6.5"
  }
 },
 "nbformat": 4,
 "nbformat_minor": 2
}
