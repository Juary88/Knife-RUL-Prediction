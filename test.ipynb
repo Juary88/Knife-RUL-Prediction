{
 "cells": [
  {
   "cell_type": "code",
   "execution_count": 1,
   "metadata": {},
   "outputs": [],
   "source": [
    "import pandas as pd\n",
    "import matplotlib.pyplot as plt\n",
    "from mpl_toolkits.mplot3d import Axes3D\n",
    "import seaborn as sns\n",
    "import numpy as np\n",
    "import pylab as pl\n",
    "from librosa.feature import mfcc\n",
    "from scipy import stats\n",
    "import pywt"
   ]
  },
  {
   "cell_type": "code",
   "execution_count": null,
   "metadata": {},
   "outputs": [],
   "source": [
    "kurtosis = []\n",
    "skew = []\n",
    "variance = []\n",
    "denominator = []\n",
    "maxs = []\n",
    "length = 46\n",
    "dim = 0\n",
    "is_fft = False\n",
    "id = '01'\n",
    "for j in range(1, length):\n",
    "    data = pd.read_csv(\"train/{}/Sensor/{}.csv\".format(id, j + 1)).values\n",
    "    x = data[:, dim]\n",
    "    # z = data[:, 1]\n",
    "    # y = data[:, 2]\n",
    "\n",
    "    i = 0\n",
    "    while (i + 1) * 256000 < len(x) - 256000:\n",
    "        if is_fft:\n",
    "            tmp = np.fft.fft(x[i * 256000: (i + 1) * 256000])\n",
    "        k = stats.kurtosis(tmp)\n",
    "        kurtosis.append(k)\n",
    "        s = stats.skew(tmp)\n",
    "\n",
    "        skew.append(s)\n",
    "        v = tmp.var()\n",
    "        variance.append(v)\n",
    "\n",
    "        vs = tmp\n",
    "        sum = 0.0\n",
    "        for v in vs:\n",
    "            sum += v * v\n",
    "        denominator.append(sum / len(vs))\n",
    "\n",
    "        m = tmp.max()\n",
    "        maxs.append(m)\n",
    "\n",
    "        i = i + 1\n",
    "    if is_fft:\n",
    "        tmp = np.fft.fft(x[i * 256000:])\n",
    "    k = stats.kurtosis(tmp)\n",
    "    kurtosis.append(k)\n",
    "    s = stats.skew(tmp)\n",
    "    skew.append(s)\n",
    "    v = tmp.var()\n",
    "    variance.append(v)\n",
    "    vs = tmp\n",
    "    sum = 0.0\n",
    "    for v in vs:\n",
    "        sum += v * v\n",
    "    denominator.append(sum / len(vs))\n",
    "    m = tmp.max()\n",
    "    maxs.append(m)"
   ]
  },
  {
   "cell_type": "code",
   "execution_count": null,
   "metadata": {},
   "outputs": [],
   "source": [
    "# df = pd.DataFrame({\"skew\":maxs, 'index':[i for i in range(len(maxs))]})\n",
    "\n",
    "# sns.pairplot(df, y_vars='skew', x_vars='index', size=12, aspect=1, kind='reg')\n",
    "plt.plot([i for i in range(len(variance))], variance)\n",
    "plt.show()"
   ]
  }
 ],
 "metadata": {
  "kernelspec": {
   "display_name": "Python 3",
   "language": "python",
   "name": "python3"
  },
  "language_info": {
   "codemirror_mode": {
    "name": "ipython",
    "version": 3
   },
   "file_extension": ".py",
   "mimetype": "text/x-python",
   "name": "python",
   "nbconvert_exporter": "python",
   "pygments_lexer": "ipython3",
   "version": "3.6.5"
  }
 },
 "nbformat": 4,
 "nbformat_minor": 2
}
