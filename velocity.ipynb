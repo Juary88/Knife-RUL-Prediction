{
 "cells": [
  {
   "cell_type": "code",
   "execution_count": 8,
   "metadata": {},
   "outputs": [],
   "source": [
    "import pandas as pd\n",
    "import matplotlib.pyplot as plt\n",
    "from mpl_toolkits.mplot3d import Axes3D\n",
    "import seaborn as sns\n",
    "import numpy as np\n",
    "import pylab as pl\n",
    "from librosa.feature import mfcc\n",
    "import pywt\n",
    "import time"
   ]
  },
  {
   "cell_type": "code",
   "execution_count": 46,
   "metadata": {},
   "outputs": [],
   "source": [
    "data = pd.read_csv(\"train/03/PLC/plc.csv\").values\n",
    "velocity = []"
   ]
  },
  {
   "cell_type": "code",
   "execution_count": 47,
   "metadata": {},
   "outputs": [
    {
     "name": "stderr",
     "output_type": "stream",
     "text": [
      "C:\\Users\\yuanli\\AppData\\Local\\Continuum\\anaconda3\\lib\\site-packages\\ipykernel_launcher.py:19: RuntimeWarning: divide by zero encountered in double_scalars\n"
     ]
    }
   ],
   "source": [
    "csv_nos = set(data[:,-1])\n",
    "for no in csv_nos:\n",
    "    X = []\n",
    "    Y = []\n",
    "    Z = []\n",
    "    times = []\n",
    "    for d in data:\n",
    "        if d[-1] is no:\n",
    "            X.append(d[2])\n",
    "            Y.append(d[3])\n",
    "            Z.append(d[4])\n",
    "            times.append(d[0])\n",
    "\n",
    "    for i in range(int(len(X))-1):\n",
    "        t = int(times[(i+1)].split(':')[-1]) - int(times[i].split(':')[-1]) + (int(times[(i+1)].split(':')[-2]) - int(times[i].split(':')[-2]))*1000\n",
    "        p1 = np.array([X[i], Y[i], Z[i]])\n",
    "        p2 = np.array([X[i+1], Y[i+1], Z[i+1]])\n",
    "        l = np.sqrt(np.sum((p1 - p2)**2))\n",
    "        if l/t < 3.0:\n",
    "            velocity.append(l/t)"
   ]
  },
  {
   "cell_type": "code",
   "execution_count": 48,
   "metadata": {},
   "outputs": [
    {
     "data": {
      "image/png": "[encoded data removed]",
      "text/plain": [
       "<Figure size 432x288 with 1 Axes>"
      ]
     },
     "metadata": {},
     "output_type": "display_data"
    }
   ],
   "source": [
    "# df = pd.DataFrame({\"kurtosis\": ave, 'index': [i for i in range(len(ave))]})\n",
    "# plt.imshow(np.flipud(spinde), cmap=plt.cm.jet, aspect=100, extent=[0,spinde.shape[1],0,spinde.shape[0]])\n",
    "# sns.pairplot(df, y_vars='kurtosis', x_vars='index', size=12, aspect=1, kind='reg')\n",
    "plt.plot([i for i in range(len(velocity))], velocity)\n",
    "plt.show()"
   ]
  }
 ],
 "metadata": {
  "kernelspec": {
   "display_name": "Python 3",
   "language": "python",
   "name": "python3"
  },
  "language_info": {
   "codemirror_mode": {
    "name": "ipython",
    "version": 3
   },
   "file_extension": ".py",
   "mimetype": "text/x-python",
   "name": "python",
   "nbconvert_exporter": "python",
   "pygments_lexer": "ipython3",
   "version": "3.6.5"
  }
 },
 "nbformat": 4,
 "nbformat_minor": 2
}
